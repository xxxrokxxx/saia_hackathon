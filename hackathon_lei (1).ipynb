{
 "cells": [
  {
   "cell_type": "code",
   "execution_count": null,
   "id": "8b4cdf0c-a053-4dde-90d8-17fef8135b8f",
   "metadata": {},
   "outputs": [],
   "source": [
    "%pip uninstall -y boto3 fsspec s3fs pandas\n"
   ]
  },
  {
   "cell_type": "code",
   "execution_count": null,
   "id": "7d2d7d69-4b36-4417-acf7-ca8d4480acab",
   "metadata": {},
   "outputs": [],
   "source": [
    "%pip cache purge"
   ]
  },
  {
   "cell_type": "code",
   "execution_count": null,
   "id": "53850ed4-9290-4bbb-8adf-432b820e6695",
   "metadata": {},
   "outputs": [],
   "source": [
    "%pip install boto3 fsspec s3fs"
   ]
  },
  {
   "cell_type": "code",
   "execution_count": null,
   "id": "833eca51-f8d6-49d7-a97c-4ba08885a961",
   "metadata": {},
   "outputs": [],
   "source": [
    "%pip install pandas"
   ]
  },
  {
   "cell_type": "code",
   "execution_count": null,
   "id": "9ab82896-90ad-41c1-970f-d82d09333986",
   "metadata": {},
   "outputs": [],
   "source": [
    "import pandas as pd"
   ]
  },
  {
   "cell_type": "code",
   "execution_count": null,
   "id": "1ec46900-b16a-4c1b-a43c-7ee92344cc2a",
   "metadata": {},
   "outputs": [],
   "source": [
    "lei_tfr = pd.read_csv(\n",
    "             's3://gleif/data/csv/lei/date=2022-05-31/time=08:00/20220531-0800-gleif-goldencopy-lei.csv.gz',\n",
    "             storage_options = {\"anon\": True},\n",
    "             iterator = True\n",
    "          )"
   ]
  },
  {
   "cell_type": "code",
   "execution_count": null,
   "id": "7fca9eaf-38bf-4489-9588-b117992e92be",
   "metadata": {},
   "outputs": [],
   "source": [
    "lei_df_chunk = lei_tfr.get_chunk(10)"
   ]
  },
  {
   "cell_type": "code",
   "execution_count": null,
   "id": "edee376b-8d07-4bbb-92be-c0afca42a9f9",
   "metadata": {},
   "outputs": [],
   "source": [
    "lei_df_chunk"
   ]
  },
  {
   "cell_type": "code",
   "execution_count": null,
   "id": "775163a7-f515-4b49-ac2c-b88cb03f8f20",
   "metadata": {},
   "outputs": [],
   "source": [
    "lei_df_chunk[['LEI', 'Entity.LegalName', 'Entity.LegalAddress.Country', 'Entity.EntityCategory']]"
   ]
  },
  {
   "cell_type": "code",
   "execution_count": null,
   "id": "5988184a-35a7-4b3c-881f-8ce715e0c665",
   "metadata": {
    "tags": []
   },
   "outputs": [],
   "source": []
  }
 ],
 "metadata": {
  "kernelspec": {
   "display_name": "default:Python",
   "language": "python",
   "name": "conda-env-default-py"
  },
  "language_info": {
   "codemirror_mode": {
    "name": "ipython",
    "version": 3
   },
   "file_extension": ".py",
   "mimetype": "text/x-python",
   "name": "python",
   "nbconvert_exporter": "python",
   "pygments_lexer": "ipython3",
   "version": "3.9.12"
  }
 },
 "nbformat": 4,
 "nbformat_minor": 5
}
